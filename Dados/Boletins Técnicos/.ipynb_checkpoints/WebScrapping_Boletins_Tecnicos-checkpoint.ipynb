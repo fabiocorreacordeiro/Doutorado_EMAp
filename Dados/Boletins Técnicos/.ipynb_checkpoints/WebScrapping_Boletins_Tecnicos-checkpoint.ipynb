{
 "cells": [
  {
   "cell_type": "code",
   "execution_count": 113,
   "id": "retired-simple",
   "metadata": {},
   "outputs": [],
   "source": [
    "# import libraries\n",
    "import urllib.request\n",
    "from bs4 import BeautifulSoup\n",
    "import selenium\n",
    "from selenium import webdriver\n",
    "from selenium.webdriver.common.keys import Keys\n",
    "from selenium.webdriver.common.by import By\n",
    "\n",
    "from selenium.webdriver.support.ui import WebDriverWait\n",
    "from selenium.webdriver.support import expected_conditions as EC\n",
    "\n",
    "import time\n",
    "import pandas as pd\n",
    "import numpy as np\n",
    "import json"
   ]
  },
  {
   "cell_type": "code",
   "execution_count": 205,
   "id": "geographic-tours",
   "metadata": {},
   "outputs": [],
   "source": [
    "# Firefox WebDrive\n",
    "driver = webdriver.Firefox(executable_path = r'C:\\Users\\upe2\\bin\\geckodriver.exe')\n",
    "# Open CPTEC wepage\n",
    "driver.get(\"http://tempo.cptec.inpe.br/boletimtecnico/pt\")\n",
    "#driver.get(\"http://www.python.org\")"
   ]
  },
  {
   "cell_type": "code",
   "execution_count": 206,
   "id": "systematic-oliver",
   "metadata": {},
   "outputs": [
    {
     "data": {
      "text/plain": [
       "'Boletim Técnico - CPTEC/INPE'"
      ]
     },
     "execution_count": 206,
     "metadata": {},
     "output_type": "execute_result"
    }
   ],
   "source": [
    "driver.title"
   ]
  },
  {
   "cell_type": "code",
   "execution_count": 207,
   "id": "suspected-doctrine",
   "metadata": {},
   "outputs": [],
   "source": [
    "#Get the CSS frame for select reports ans switch context\n",
    "frame = driver.find_element_by_css_selector('div.cont_dir iframe')\n",
    "driver.switch_to.frame(frame)"
   ]
  },
  {
   "cell_type": "code",
   "execution_count": 208,
   "id": "activated-failure",
   "metadata": {},
   "outputs": [],
   "source": [
    "#Select date and press enter\n",
    "\n",
    "elem = driver.find_element_by_id(\"j_id_jsp_31316922_1:dia\")\n",
    "for n in range(2-1):\n",
    "    elem.send_keys(Keys.ARROW_DOWN)\n",
    "#elem.send_keys(\"11\")\n",
    "\n",
    "elem = driver.find_element_by_id(\"j_id_jsp_31316922_1:mes\")\n",
    "for n in range(12-1):\n",
    "    elem.send_keys(Keys.ARROW_DOWN)\n",
    "\n",
    "elem = driver.find_element_by_id(\"j_id_jsp_31316922_1:ano\")\n",
    "for n in range(2021 - 2010):\n",
    "    elem.send_keys(Keys.ARROW_DOWN)\n",
    "\n",
    "elem = driver.find_element_by_id(\"j_id_jsp_31316922_1:submit\")\n",
    "elem.send_keys(Keys.RETURN)"
   ]
  },
  {
   "cell_type": "code",
   "execution_count": 212,
   "id": "earned-motel",
   "metadata": {},
   "outputs": [],
   "source": [
    "driver.switch_to.parent_frame()\n",
    "\n",
    "#Get the CSS frame for select reports ans switch context\n",
    "frame = driver.find_element_by_css_selector('div.cont_meio iframe')\n",
    "driver.switch_to.frame(frame)"
   ]
  },
  {
   "cell_type": "code",
   "execution_count": 217,
   "id": "loving-wings",
   "metadata": {},
   "outputs": [
    {
     "data": {
      "text/plain": [
       "'Nível 500 hPA'"
      ]
     },
     "execution_count": 217,
     "metadata": {},
     "output_type": "execute_result"
    }
   ],
   "source": [
    "elem = driver.find_elements_by_class_name(\"sub\")\n",
    "elem[1].text"
   ]
  },
  {
   "cell_type": "code",
   "execution_count": 218,
   "id": "fitted-proof",
   "metadata": {},
   "outputs": [
    {
     "data": {
      "text/plain": [
       "'Na análise sinótica do dia 02/12 do nível de 250 hPa nota-se o domínio anticiclônico no centro-oeste do continente. Este anticiclone encontra-se centrado sobre o centro da Bolívia. Uma crista se estende desse centro até o Atlântico, passando pelo ES. Um Vórtice Ciclônico de Altos Níveis contribui para a subsidência do ar em grande parte do centro-norte da Região Nordeste. O escoamento difluente encontra-se entre o MS e o RJ, passando pelo Triângulo Mineiro e favorece a convergência em baixos níveis e com isso provoca levantamento do ar gerando nuvens cumuluninbus isoladas. O Jato Subtropical estende-se desde o Pacífico até o Atlântico atuando também no norte do Chile, da Argentina e no Sul do Brasil. Na Patagônia Argentina o domínio do escoamento é ciclônico com a presença de um ramo sul do Jato Polar (JPS) e um ramo do Jato Polar Norte (JPN). A norte das Malvinas, entre 40S e 50S, há ventos fortes associados a esses Jatos. Outros ramos do JPN e JPS aparecem no Pacífico sudeste acoplados a uma área anticiclônica.\\nVisualizar imagem de 250 hPA'"
      ]
     },
     "execution_count": 218,
     "metadata": {},
     "output_type": "execute_result"
    }
   ],
   "source": [
    "elem = driver.find_elements_by_class_name(\"texto\")\n",
    "elem[1].text"
   ]
  },
  {
   "cell_type": "code",
   "execution_count": 71,
   "id": "first-investing",
   "metadata": {},
   "outputs": [],
   "source": [
    "elem.clear()\n",
    "elem.send_keys(\"teste\")\n",
    "elem.send_keys(Keys.RETURN)"
   ]
  },
  {
   "cell_type": "code",
   "execution_count": 174,
   "id": "fatty-boston",
   "metadata": {},
   "outputs": [],
   "source": [
    "driver.close()"
   ]
  },
  {
   "cell_type": "code",
   "execution_count": null,
   "id": "killing-savannah",
   "metadata": {},
   "outputs": [],
   "source": []
  }
 ],
 "metadata": {
  "kernelspec": {
   "display_name": "Python 3",
   "language": "python",
   "name": "python3"
  },
  "language_info": {
   "codemirror_mode": {
    "name": "ipython",
    "version": 3
   },
   "file_extension": ".py",
   "mimetype": "text/x-python",
   "name": "python",
   "nbconvert_exporter": "python",
   "pygments_lexer": "ipython3",
   "version": "3.7.9"
  }
 },
 "nbformat": 4,
 "nbformat_minor": 5
}
