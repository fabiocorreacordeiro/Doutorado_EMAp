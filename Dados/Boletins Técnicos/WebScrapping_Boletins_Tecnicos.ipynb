{
 "cells": [
  {
   "cell_type": "code",
   "execution_count": 1,
   "id": "retired-simple",
   "metadata": {},
   "outputs": [],
   "source": [
    "# import libraries\n",
    "import urllib.request\n",
    "from bs4 import BeautifulSoup\n",
    "import selenium\n",
    "from selenium import webdriver\n",
    "from selenium.webdriver.common.keys import Keys\n",
    "from selenium.webdriver.common.by import By\n",
    "from selenium.webdriver.firefox.options import Options\n",
    "\n",
    "from selenium.webdriver.support.ui import WebDriverWait\n",
    "from selenium.webdriver.support import expected_conditions as EC\n",
    "\n",
    "import time\n",
    "import pandas as pd\n",
    "import numpy as np\n",
    "import json"
   ]
  },
  {
   "cell_type": "code",
   "execution_count": 90,
   "id": "tested-context",
   "metadata": {},
   "outputs": [],
   "source": [
    "def crawler_boletins(dia, mes, ano):\n",
    "\n",
    "    # Firefox WebDrive\n",
    "    options = Options()\n",
    "    options.headless = False    #Not open the broser \n",
    "    driver = webdriver.Firefox(options=options, executable_path = r'C:\\Users\\upe2\\bin\\geckodriver.exe')\n",
    "\n",
    "    # Open CPTEC wepage\n",
    "    driver.get(\"http://tempo.cptec.inpe.br/boletimtecnico/pt\")\n",
    "\n",
    "    #Get the CSS frame for select reports ans switch context\n",
    "    frame = driver.find_element_by_css_selector('div.cont_dir iframe')\n",
    "    driver.switch_to.frame(frame)\n",
    "\n",
    "    #Select date and press enter\n",
    "    elem = driver.find_element_by_id(\"j_id_jsp_31316922_1:dia\")\n",
    "    if dia != 1:\n",
    "        for n in range(dia-1):\n",
    "            elem.send_keys(Keys.ARROW_DOWN)\n",
    "\n",
    "    elem = driver.find_element_by_id(\"j_id_jsp_31316922_1:mes\")\n",
    "    if mes != 1:\n",
    "        for n in range(mes-1):\n",
    "            elem.send_keys(Keys.ARROW_DOWN)\n",
    "\n",
    "    elem = driver.find_element_by_id(\"j_id_jsp_31316922_1:ano\")\n",
    "    if ano != 2021:\n",
    "        for n in range(2021 - ano):\n",
    "            elem.send_keys(Keys.ARROW_DOWN)\n",
    "\n",
    "    elem = driver.find_element_by_id(\"j_id_jsp_31316922_1:submit\")\n",
    "    elem.send_keys(Keys.RETURN)\n",
    "\n",
    "    #Back the context to former frame\n",
    "    driver.switch_to.parent_frame()\n",
    "\n",
    "    #Get the CSS frame for select reports ans switch context\n",
    "    frame = driver.find_element_by_css_selector('div.cont_meio iframe')\n",
    "    driver.switch_to.frame(frame)\n",
    "    \n",
    "    try:\n",
    "        \n",
    "        #Convert dia, mes, ano in string\n",
    "        # Dia\n",
    "        if len(str(dia)) == 2:\n",
    "            str_dia = str(dia)\n",
    "        else:\n",
    "            str_dia = \"0\" + str(dia)\n",
    "        # Mes\n",
    "        if len(str(mes)) == 2:\n",
    "            str_mes = str(mes)\n",
    "        else:\n",
    "            str_mes = \"0\" + str(mes)\n",
    "            \n",
    "        #Ano\n",
    "        str_ano = str(ano)\n",
    "            \n",
    "        \n",
    "        element = WebDriverWait(driver, 3).until(\n",
    "            EC.text_to_be_present_in_element((By.TAG_NAME, \"em\"), \n",
    "                                             \"Análise Sinótica: \" + str_dia + \"/\" + str_mes + \"/\" + str_ano + \"-00Z\")\n",
    "        )\n",
    "        \n",
    "        #get the report texts\n",
    "        elem = driver.find_elements_by_class_name(\"texto\")\n",
    "        texts = []\n",
    "        for cell in elem:\n",
    "            texts.append(cell.text)\n",
    "\n",
    "        elem = driver.find_elements_by_class_name(\"sub\")\n",
    "        col = []\n",
    "        for cell in elem:\n",
    "            col.append(cell.text)\n",
    "\n",
    "        # Close CPTEC wepage\n",
    "        driver.close()\n",
    "\n",
    "        return(col, texts,)\n",
    "    \n",
    "    except:\n",
    "        driver.close()\n",
    "        return ([[],[]])"
   ]
  },
  {
   "cell_type": "code",
   "execution_count": 91,
   "id": "portable-reaction",
   "metadata": {},
   "outputs": [
    {
     "name": "stdout",
     "output_type": "stream",
     "text": [
      "Análise Sinótica: 10/03/2011-00Z\n"
     ]
    },
    {
     "data": {
      "text/plain": [
       "(['Análise Sinótica: 10/03/2011-00Z',\n",
       "  'Nível 250 hPA',\n",
       "  'Nível 500 hPA',\n",
       "  'Nível 850 hPA',\n",
       "  'Superfície',\n",
       "  'Previsão'],\n",
       " ['Imagem de Satélite Goes 16',\n",
       "  'Na análise da carta sinótica de altitude da 00Z (250 hPa) de hoje 10/03, observa-se um crista sobre o país, entre os paralelos 10 e 20S, compreendendo boa parte do Centro-Oeste, Sudeste e sul do Nordeste. Este sistema desprende-se de um núcleo que posiciona-se sobre o Pacífico. Entre o MS, SP e Região Sul do Brasil o fluxo é de oeste, e mais ao sul, sobre o Uruguai, observa-se um significativo cavado, que foi um dos responsáveis por toda instabilidade observada entre a tarde de quarta-feira e o início do dia de hoje sobre o sul do estado gaúcho, como foi o caso de Rio Grande, onde o acumulado foi de 132mm. Os Jatos Polar Norte (JPN) e Polar Sul (JPS) contornam um cavado a sul de 50S, atuando sobre o extremo sul do continente e dando suporte a uma família de frente em superfície.\\nVisualizar imagem de 250 hPA',\n",
       "  'Na análise da carta sinótica de nível médio (500 hPa) da 00Z de hoje 10/03, nota-se a presença de um anticiclone entre o extremo norte de MG e grande parte da BA. Este sistema inibe a formação de nebulosidade significativa e deixa o tempo mais seco no interior da BA. Nota-se uma circulação ciclônica sobre parte do Sudeste. No oceano é observado um cavado sobre o Atlântico, na altura do ES. Este cavado também favorece ao alinhamento do canal de umidade observado em superfície. Observa-se um padrão de ?dipolo? com a presença de um vórtice ciclônico sobre o RS e Uruguai e o anticiclone sobre a Argentina. A região com maior baroclinia é observado ao sul de 40S no Pacífico e ao sul de 50S no Atlântico, onde pode-se ventos mais intensos, reflexo do jato em altitude.\\nVisualizar imagem de 500 hPA',\n",
       "  'Na análise da carta sinótica de níveis baixos (850 hPa) da 00Z de hoje 10/03, uma ampla área de alta pressão sobre o Atlântico, a leste da Região Sul, de modo que este sistema gera ventos de leste sobre os estados do RJ e SP, e leste do Sul do Brasil, advectando umidade para esta área na camada mais baixa da atmosfera. Uma área de baixa pressão pode ser visto próximo a costa do ES e sul da BA, que favorece a convecção sobre este setor do país. Nas últimas 24 horas, acumulou 106 mm em Itapetinga, no sul da BA, tendo suporte deste último sistema, além da Zona de Convergência do Atlântico Sul ()ZCAS) em superfície. A área mais baroclínica, com ventos fortes e significativo gradiente de geopotencial encontra-se a sul de 40S.\\nVisualizar imagem de 850 hPA',\n",
       "  'Na análise da carta sinótica de superfície das 00Z desta quinta-feira (10/03), a Zona de Convergência do Atlântico Sul (ASAS), atuando entre o sul do AM, Centro-Oeste e Sudeste do Brasil, prolongando-se pelo Atlântico, onde se acopla a um cavado. A Alta Subtropical do Atlântico Sul tem núcleo pontual de 1025 hPa centrado em 39S/31W, com sua borda oeste atuando sobre o leste da Região Sul e SP. Embebido neste sistema nota-se um cavado invertido sobre o RS e Atlântico. Outros dois cavados são vistos sobre a Argentina, e uma família de frentes atuam entre o sul dos oceanos Pacífico e Atlântico. A Alta Subtropical do Pacífico Sul (ASPS) está centrada a oeste de 100W, com valor pontual de 1022 hPa. A Zona de Convergência Intertropical (ZCIT) atua sobre o Pacífico ao longo de 8N, e dividida em dois ramos sobre o Atlântico: um ao norte e outro ao sul da Linha do Equador.\\nVisualizar imagem de Superfície',\n",
       "  'O destaque desta quinta-feira dia 10/03/2011 é o enfraquecimento do padrão de bloqueio que vinha persistindo há dias sobre o Atlântico e o continente, e que foi responsável por manter organizado um canal de umidade entre o oceano e o interior do Brasil. Este episódio de Zona de Convergência do Atlântico Sul (ZCAS) persistiu por 10 dias, provocando muita chuva, cujos acumulados ultrapassaram a média do mês de março no norte/noroeste de MS, MG (principalmente Região do Triângulo Mineiro) e noroeste de SP. Entretanto ainda persiste as chuvas entre o sul e sudoeste da BA, nordeste de MG e ES, pela presença da ZCOU (Zona de Convergência de Umidade). A quebra deste padrão atmosférico está sendo determinada pelo deslocamento de um cavado em altitude da Argentina, que juntamente com a presença de um Vórtice Ciclônico na troposfera média já provocou chuvas fortes e acumulados significativos em alguns municípios do sul e litoral sul do RS. Esse cavado estará estendido pela Região Sul e deverá causar mais instabilidades, inclusive com possibilidade de queda de granizo isolado no norte, centro, nordeste e leste do RS, centro e oeste de SC e sudoeste/sul do PR. No sul do RS ainda deverá chover ao longo dessa quinta-feira. Nos próximos cinco dias a instabilidade tropical causará pancadas de chuva no norte, oeste e centro da Região Nordeste, na Região Centro-Oeste e na Região Norte. Nos próximos dias de 11 a 14/03 o destaque é a formação de uma baixa pressão nas proximidades do litoral do Sudeste, entre o RJ e o ES. Todos os modelos indicam chuvas significativas entre o ES, sul da BA e leste e nordeste de MG. Isto se deve a presença de um cavado na média troposfera e de umidade elevada em superfície. O que há em diferenças discrepantes é no tipo de sistema que atuará e o seu raio de atuação. O modelo ETA prevê a formação de uma baixa pressão (ciclone) a sudeste do litoral de SP e a leste de SC e do PR em 72h (dia 12) com isóbara de 1005 hPa, com características subtropicais, e intensificando para 96h (13) com isóbara de 999 hPa. Nesse caso esse modelo prevê chuva e ventos singnificativos no litoral de SC e do PR. O modelo GFS prevê uma baixa pressão entre o ES e Atlântico em 72h com 1005 hPa e em 96h (13) e em 120h (14) prosseguindo para leste com 999 hPa, gerando ventos fortes no ES e litoral norte do RJ e no Atlântico além de chuva forte. O modelo ECMWF se assemelha ao GFS. O modelo RPSAS não identifica esse ciclone, apenas um cavado invertido em 72h e 96h no litoral do Sudeste, no entanto, prevê chuva significativa para o nordeste de MG, ES e sul da BA nesses dias. O modelo T213 prevê um ciclone em 72h (12) de 999 hPa mais a leste de SC e do PR e a sul do RJ e sudeste de SP, porém prevê acumulados significativos no litoral de SC e do PR e em 96h (14) o núcleo se aproxima do litoral de SC e do PR com valor de 997 hPa. Diante das discrepâncias dos modelos a previsibilidade é baixa em relação a formação desse ciclone subtropical. Entretanto algumas áreas de chuva forte no Sudeste, como citado acima, podem se confirmar, pois o sistema que influencia a região em destaque é um cavado e também a elevada umidade do ar. Elaborado pelos Meteorologistas Luiz Kondraski de Souza, Carlos Moura e Kelen Andrade'])"
      ]
     },
     "execution_count": 91,
     "metadata": {},
     "output_type": "execute_result"
    }
   ],
   "source": [
    "dia = 10\n",
    "mes = 3\n",
    "ano = 2011\n",
    "\n",
    "texto = crawler_boletins(dia, mes, ano)\n",
    "texto"
   ]
  }
 ],
 "metadata": {
  "kernelspec": {
   "display_name": "Python 3",
   "language": "python",
   "name": "python3"
  },
  "language_info": {
   "codemirror_mode": {
    "name": "ipython",
    "version": 3
   },
   "file_extension": ".py",
   "mimetype": "text/x-python",
   "name": "python",
   "nbconvert_exporter": "python",
   "pygments_lexer": "ipython3",
   "version": "3.7.9"
  }
 },
 "nbformat": 4,
 "nbformat_minor": 5
}
