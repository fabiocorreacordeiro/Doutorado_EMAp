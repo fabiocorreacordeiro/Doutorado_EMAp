{
 "cells": [
  {
   "cell_type": "markdown",
   "metadata": {},
   "source": [
    "Script para buscar resumos das teses e dissertações na BDTD"
   ]
  },
  {
   "cell_type": "code",
   "execution_count": 1,
   "metadata": {},
   "outputs": [],
   "source": [
    "import requests\n",
    "from bs4 import BeautifulSoup as bs\n",
    "import pandas as pd\n",
    "import json"
   ]
  },
  {
   "cell_type": "code",
   "execution_count": 28,
   "metadata": {},
   "outputs": [],
   "source": []
  },
  {
   "cell_type": "code",
   "execution_count": 29,
   "metadata": {},
   "outputs": [],
   "source": [
    "areas = pd.read_csv('Areas_CNPQ.csv', sep=';')"
   ]
  },
  {
   "cell_type": "code",
   "execution_count": 30,
   "metadata": {},
   "outputs": [],
   "source": [
    "#função para coletar link para cada tese de uma determinada áreas do conhecimento do CNPQ\n",
    "\n",
    "def link_area(area, page):\n",
    "    #Separar nome e sobrenome do autor\n",
    "    nivel_1 = area[0]\n",
    "    nivel_2 = area[1]\n",
    "\n",
    "    #Preparar nome e sobrenome para a url\n",
    "    nivel_1 = '+'.join(nivel_1.split())\n",
    "   \n",
    "    if str(nivel_2) != 'nan':\n",
    "        nivel_2 = '+'.join(nivel_2.split())\n",
    "        \n",
    "        #preparar a url\n",
    "        url = ('http://bdtd.ibict.br/vufind/Search/Results?filter%5B%5D=dc.subject.cnpq.fl_str_mv%3A\"CNPQ%3A%3A' +\n",
    "               nivel_1 +\n",
    "               '%3A%3A' +\n",
    "               nivel_2 +\n",
    "               '\"&page=' +\n",
    "               str(page))\n",
    "    else:\n",
    "        url = ('http://bdtd.ibict.br/vufind/Search/Results?filter%5B%5D=dc.subject.cnpq.fl_str_mv%3A\"CNPQ%3A%3A' +\n",
    "               nivel_1 +\n",
    "               '\"&page=' +\n",
    "               str(page))\n",
    "    \n",
    "    #Fazer requisição e parsear o arquivo html\n",
    "    f = requests.get(url, proxies = proxies).text \n",
    "    soup = bs(f, \"html.parser\")\n",
    "\n",
    "    #Coletando link para as teses\n",
    "    links = []\n",
    "    for doc in soup.find_all('a', href=True):\n",
    "        if 'title' in doc.get('class', []):\n",
    "            links.append(doc['href'])\n",
    "    return links"
   ]
  },
  {
   "cell_type": "code",
   "execution_count": 31,
   "metadata": {
    "scrolled": true
   },
   "outputs": [],
   "source": [
    "#Coletar o link com as teses das áreas não relacionadas à Petrobras\n",
    "area_oposta = areas[areas['PETROBRAS'] == 0]\n",
    "\n",
    "n_pages = 10 # Cada página retorna 20 teses\n",
    "links_area_oposta = []\n",
    "\n",
    "for area in area_oposta.iterrows():\n",
    "    for p in range(n_pages):\n",
    "        link = link_area(area[1], p)\n",
    "        if link != []:\n",
    "            links_area_oposta = links_area_oposta + link\n",
    "        else:\n",
    "            break"
   ]
  },
  {
   "cell_type": "code",
   "execution_count": 32,
   "metadata": {},
   "outputs": [],
   "source": [
    "#Coletar o link com as teses das áreas não relacionadas à Petrobras\n",
    "mesma_area = areas[areas['PETROBRAS'] == 1]\n",
    "\n",
    "n_pages = 10 # Cada página retorna 20 teses\n",
    "links_mesma_area = []\n",
    "\n",
    "for area in mesma_area.iterrows():\n",
    "    for p in range(n_pages):\n",
    "        link = link_area(area[1], p)\n",
    "        if link != []:\n",
    "            links_mesma_area = links_mesma_area + link\n",
    "        else:\n",
    "            break"
   ]
  },
  {
   "cell_type": "code",
   "execution_count": 33,
   "metadata": {},
   "outputs": [],
   "source": [
    "# Função para coletar os metadados de uma tese ou dissertação da BDTD dado uma URL\n",
    "def tese_link(url):\n",
    "    #definir url\n",
    "    url = 'http://bdtd.ibict.br' + link\n",
    "    \n",
    "    #Requisitar html e fazer o parser\n",
    "    f = requests.get(url, proxies = proxies).text \n",
    "    soup = bs(f, \"html.parser\")\n",
    "\n",
    "    #Dicionário para armazenar as informações da tese\n",
    "    tese = {}  \n",
    "    \n",
    "    #Adicionar título\n",
    "    tese['Title'] = soup.find('h3').get_text()\n",
    "    for doc in soup.find_all('tr'):\n",
    "       \n",
    "        #Identificar atributo\n",
    "        try:\n",
    "            atributo = doc.find('th').get_text()\n",
    "        except:\n",
    "            pass\n",
    "        \n",
    "        #Verificar se o atributo possui mais de um dado\n",
    "        for row in doc.find_all('td'):\n",
    "            \n",
    "            #Adicionar o atributo no diconário\n",
    "            if row.find('div') == None:\n",
    "                try:\n",
    "                    tese[atributo] = doc.find('td').get_text()\n",
    "                except:\n",
    "                    pass\n",
    "            else:\n",
    "                element = []\n",
    "                \n",
    "                #No dicionário, adicionar todos os dados ao seu respectivo atributo\n",
    "                for e in doc.find_all('div'):\n",
    "                    try:\n",
    "                        element.append(e.find('a').get_text())\n",
    "                    except:\n",
    "                        pass\n",
    "                tese[atributo] = element\n",
    "    \n",
    "    return(tese)"
   ]
  },
  {
   "cell_type": "code",
   "execution_count": 38,
   "metadata": {
    "scrolled": true
   },
   "outputs": [
    {
     "name": "stdout",
     "output_type": "stream",
     "text": [
      "500\n",
      "1000\n",
      "1500\n",
      "2000\n",
      "2500\n",
      "3000\n",
      "3500\n",
      "4000\n",
      "4500\n",
      "5000\n",
      "5500\n",
      "6000\n",
      "6500\n"
     ]
    }
   ],
   "source": [
    "teses = {}\n",
    "n = 0\n",
    "for link in links_area_oposta:\n",
    "    url = 'http://bdtd.ibict.br'+link\n",
    "    teses[url] = tese_link(link)\n",
    "    n = n + 1\n",
    "    if n % 500 == 0:\n",
    "        print(n)\n",
    "        with open('teses_areas_opostas_Large.json', 'w') as fp:\n",
    "            json.dump(teses, fp)"
   ]
  },
  {
   "cell_type": "code",
   "execution_count": 39,
   "metadata": {},
   "outputs": [
    {
     "name": "stdout",
     "output_type": "stream",
     "text": [
      "500\n",
      "1000\n",
      "1500\n",
      "2000\n",
      "2500\n",
      "3000\n",
      "3500\n",
      "4000\n",
      "4500\n",
      "5000\n",
      "5500\n",
      "6000\n",
      "6500\n"
     ]
    }
   ],
   "source": [
    "teses = {}\n",
    "n = 0\n",
    "for link in links_mesma_area:\n",
    "    url = 'http://bdtd.ibict.br'+link\n",
    "    teses[url] = tese_link(link)\n",
    "    n = n + 1\n",
    "    if n % 500 == 0:\n",
    "        print(n)\n",
    "        with open('teses_mesmas_areas_Large.json', 'w') as fp:\n",
    "            json.dump(teses, fp)"
   ]
  },
  {
   "cell_type": "code",
   "execution_count": null,
   "metadata": {},
   "outputs": [],
   "source": []
  }
 ],
 "metadata": {
  "kernelspec": {
   "display_name": "Python 3",
   "language": "python",
   "name": "python3"
  },
  "language_info": {
   "codemirror_mode": {
    "name": "ipython",
    "version": 3
   },
   "file_extension": ".py",
   "mimetype": "text/x-python",
   "name": "python",
   "nbconvert_exporter": "python",
   "pygments_lexer": "ipython3",
   "version": "3.7.9"
  }
 },
 "nbformat": 4,
 "nbformat_minor": 2
}
