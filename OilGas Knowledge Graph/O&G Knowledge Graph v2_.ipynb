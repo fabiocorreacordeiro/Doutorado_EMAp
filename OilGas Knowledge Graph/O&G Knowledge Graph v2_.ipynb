{
  "nbformat": 4,
  "nbformat_minor": 0,
  "metadata": {
    "kernelspec": {
      "display_name": "Python 3",
      "language": "python",
      "name": "python3"
    },
    "language_info": {
      "codemirror_mode": {
        "name": "ipython",
        "version": 3
      },
      "file_extension": ".py",
      "mimetype": "text/x-python",
      "name": "python",
      "nbconvert_exporter": "python",
      "pygments_lexer": "ipython3",
      "version": "3.7.9"
    },
    "colab": {
      "name": "O&G Knowledge Graph v2.ipynb",
      "provenance": []
    }
  },
  "cells": [
    {
      "cell_type": "code",
      "metadata": {
        "id": "Qj0FQ2g2jiwr"
      },
      "source": [
        "# Importando os bibliotecas\n",
        "import pandas as pd\n",
        "from pandas import read_excel\n",
        "import re\n",
        "from concurrent.futures import ThreadPoolExecutor\n",
        "from random import shuffle\n",
        "import json\n",
        "from bs4 import BeautifulSoup"
      ],
      "execution_count": 1,
      "outputs": []
    },
    {
      "cell_type": "markdown",
      "metadata": {
        "id": "zhN7BWW6jiwv"
      },
      "source": [
        "### Carregando o dataset  \n",
        "\n",
        "inicialmente vamos utilizar o corpus público do [Petrolês](https://petroles.puc-rio.ai/) sem as teses do IBICT, com o preprocessamento disponibilizado (apenas eliminação de ruídos, números e caracteres especiais). Ao final, a escolha do corpus deve ser reavaliada. "
      ]
    },
    {
      "cell_type": "code",
      "metadata": {
        "id": "nrI9wVGNjiwy"
      },
      "source": [
        "file = 'corpusPublico(sem IBICT)-SemProcessamento.txt'\n",
        "text = open(file, \"r\", encoding='utf-8').read()\n",
        "text = text.split('\\n')\n",
        "shuffle(text)"
      ],
      "execution_count": null,
      "outputs": []
    },
    {
      "cell_type": "code",
      "metadata": {
        "id": "lxMz5rG5jiwz",
        "outputId": "25e6d8db-e9c8-4fc4-e274-c925ec54f9bb"
      },
      "source": [
        "print('Número de sentenças: ', len(text))"
      ],
      "execution_count": null,
      "outputs": [
        {
          "name": "stdout",
          "output_type": "stream",
          "text": [
            "Número de sentenças:  4479566\n"
          ]
        }
      ]
    },
    {
      "cell_type": "markdown",
      "metadata": {
        "id": "7CC84YNXjiw1"
      },
      "source": [
        "Carregando lista de entidades nomeadas"
      ]
    },
    {
      "cell_type": "code",
      "metadata": {
        "id": "zhzwfp1njiw2",
        "outputId": "d1ac17b5-239d-480b-ad09-860e5be1702b"
      },
      "source": [
        "# Carregando arquivo\n",
        "entidades = pd.read_csv('Entidades.csv', encoding='iso-8859-1', delimiter=';')\n",
        "# Excluindo linhas duplicadas\n",
        "entidades = entidades.drop_duplicates().reset_index()[['Entidade','Classe']]\n",
        "entidades"
      ],
      "execution_count": null,
      "outputs": [
        {
          "data": {
            "text/html": [
              "<div>\n",
              "<style scoped>\n",
              "    .dataframe tbody tr th:only-of-type {\n",
              "        vertical-align: middle;\n",
              "    }\n",
              "\n",
              "    .dataframe tbody tr th {\n",
              "        vertical-align: top;\n",
              "    }\n",
              "\n",
              "    .dataframe thead th {\n",
              "        text-align: right;\n",
              "    }\n",
              "</style>\n",
              "<table border=\"1\" class=\"dataframe\">\n",
              "  <thead>\n",
              "    <tr style=\"text-align: right;\">\n",
              "      <th></th>\n",
              "      <th>Entidade</th>\n",
              "      <th>Classe</th>\n",
              "    </tr>\n",
              "  </thead>\n",
              "  <tbody>\n",
              "    <tr>\n",
              "      <th>0</th>\n",
              "      <td>ACRE</td>\n",
              "      <td>Bacia</td>\n",
              "    </tr>\n",
              "    <tr>\n",
              "      <th>1</th>\n",
              "      <td>AFOGADOS DA INGAZEIRA</td>\n",
              "      <td>Bacia</td>\n",
              "    </tr>\n",
              "    <tr>\n",
              "      <th>2</th>\n",
              "      <td>AGUA BONITA</td>\n",
              "      <td>Bacia</td>\n",
              "    </tr>\n",
              "    <tr>\n",
              "      <th>3</th>\n",
              "      <td>ALAGOAS</td>\n",
              "      <td>Bacia</td>\n",
              "    </tr>\n",
              "    <tr>\n",
              "      <th>4</th>\n",
              "      <td>ALMADA</td>\n",
              "      <td>Bacia</td>\n",
              "    </tr>\n",
              "    <tr>\n",
              "      <th>...</th>\n",
              "      <td>...</td>\n",
              "      <td>...</td>\n",
              "    </tr>\n",
              "    <tr>\n",
              "      <th>1281</th>\n",
              "      <td>Age 5</td>\n",
              "      <td>Unidade_Cronoestratigrafica</td>\n",
              "    </tr>\n",
              "    <tr>\n",
              "      <th>1282</th>\n",
              "      <td>Epoch 2</td>\n",
              "      <td>Unidade_Cronoestratigrafica</td>\n",
              "    </tr>\n",
              "    <tr>\n",
              "      <th>1283</th>\n",
              "      <td>Age 4</td>\n",
              "      <td>Unidade_Cronoestratigrafica</td>\n",
              "    </tr>\n",
              "    <tr>\n",
              "      <th>1284</th>\n",
              "      <td>Age 3</td>\n",
              "      <td>Unidade_Cronoestratigrafica</td>\n",
              "    </tr>\n",
              "    <tr>\n",
              "      <th>1285</th>\n",
              "      <td>Age 2</td>\n",
              "      <td>Unidade_Cronoestratigrafica</td>\n",
              "    </tr>\n",
              "  </tbody>\n",
              "</table>\n",
              "<p>1286 rows × 2 columns</p>\n",
              "</div>"
            ],
            "text/plain": [
              "                   Entidade                       Classe\n",
              "0                      ACRE                        Bacia\n",
              "1     AFOGADOS DA INGAZEIRA                        Bacia\n",
              "2               AGUA BONITA                        Bacia\n",
              "3                   ALAGOAS                        Bacia\n",
              "4                    ALMADA                        Bacia\n",
              "...                     ...                          ...\n",
              "1281                  Age 5  Unidade_Cronoestratigrafica\n",
              "1282                Epoch 2  Unidade_Cronoestratigrafica\n",
              "1283                  Age 4  Unidade_Cronoestratigrafica\n",
              "1284                  Age 3  Unidade_Cronoestratigrafica\n",
              "1285                  Age 2  Unidade_Cronoestratigrafica\n",
              "\n",
              "[1286 rows x 2 columns]"
            ]
          },
          "execution_count": 4,
          "metadata": {},
          "output_type": "execute_result"
        }
      ]
    },
    {
      "cell_type": "code",
      "metadata": {
        "id": "lcRxPjv8jiw3"
      },
      "source": [
        "sentença_entidade = {}\n",
        "\n",
        "def verificar_entidades(sent):\n",
        "\n",
        "    lista_entidade = []\n",
        "\n",
        "    for ent in list(entidades['Entidade']): #Usando instâncias da \n",
        "        TEXT =  ent.lower()\n",
        "        \n",
        "        if re.search(r'\\b' + TEXT + r'\\b', sent.lower()):\n",
        "            lista_entidade.append(ent)\n",
        "      \n",
        "    if lista_entidade != []:\n",
        "\n",
        "        sentença_entidade[len(sentença_entidade)] = {'Sentença': sent, 'Entidades': lista_entidade}\n",
        "\n",
        "    return "
      ],
      "execution_count": null,
      "outputs": []
    },
    {
      "cell_type": "code",
      "metadata": {
        "id": "dLa3C0WEjiw5"
      },
      "source": [
        "with ThreadPoolExecutor(100) as pool:\n",
        "    pool.map(verificar_entidades, text[:10])"
      ],
      "execution_count": null,
      "outputs": []
    },
    {
      "cell_type": "code",
      "metadata": {
        "id": "u3E3zu_jjiw6",
        "outputId": "3dcd0983-a69d-44e2-ec77-f12aa3c514e1"
      },
      "source": [
        "sentença_entidade"
      ],
      "execution_count": null,
      "outputs": [
        {
          "data": {
            "text/plain": [
              "{}"
            ]
          },
          "execution_count": 82,
          "metadata": {},
          "output_type": "execute_result"
        }
      ]
    },
    {
      "cell_type": "code",
      "metadata": {
        "id": "e1vereKEjiw7"
      },
      "source": [
        "with open('sentença_entidade.json', 'w') as f:\n",
        "    json.dump(sentença_entidade, f)"
      ],
      "execution_count": null,
      "outputs": []
    },
    {
      "cell_type": "markdown",
      "metadata": {
        "id": "AbfVMHhCjiw8"
      },
      "source": [
        "# Taxonomia de O&G. (Wograine, 2021)"
      ]
    },
    {
      "cell_type": "code",
      "metadata": {
        "id": "Gg2DdiPOjiw9",
        "outputId": "27968da5-1322-46df-f148-5204a48b8992",
        "colab": {
          "base_uri": "https://localhost:8080/",
          "height": 185
        }
      },
      "source": [
        "with open(\"Taxonomia_O&G.html\", \"r\", encoding='utf-8') as t:\n",
        "    soup = BeautifulSoup(t, 'html.parser')"
      ],
      "execution_count": 2,
      "outputs": [
        {
          "output_type": "error",
          "ename": "FileNotFoundError",
          "evalue": "ignored",
          "traceback": [
            "\u001b[0;31m---------------------------------------------------------------------------\u001b[0m",
            "\u001b[0;31mFileNotFoundError\u001b[0m                         Traceback (most recent call last)",
            "\u001b[0;32m<ipython-input-2-1c5cdf7a4c93>\u001b[0m in \u001b[0;36m<module>\u001b[0;34m()\u001b[0m\n\u001b[0;32m----> 1\u001b[0;31m \u001b[0;32mwith\u001b[0m \u001b[0mopen\u001b[0m\u001b[0;34m(\u001b[0m\u001b[0;34m\"Taxonomia_O&G.html\"\u001b[0m\u001b[0;34m,\u001b[0m \u001b[0;34m\"r\"\u001b[0m\u001b[0;34m,\u001b[0m \u001b[0mencoding\u001b[0m\u001b[0;34m=\u001b[0m\u001b[0;34m'utf-8'\u001b[0m\u001b[0;34m)\u001b[0m \u001b[0;32mas\u001b[0m \u001b[0mt\u001b[0m\u001b[0;34m:\u001b[0m\u001b[0;34m\u001b[0m\u001b[0;34m\u001b[0m\u001b[0m\n\u001b[0m\u001b[1;32m      2\u001b[0m     \u001b[0msoup\u001b[0m \u001b[0;34m=\u001b[0m \u001b[0mBeautifulSoup\u001b[0m\u001b[0;34m(\u001b[0m\u001b[0mt\u001b[0m\u001b[0;34m,\u001b[0m \u001b[0;34m'html.parser'\u001b[0m\u001b[0;34m)\u001b[0m\u001b[0;34m\u001b[0m\u001b[0;34m\u001b[0m\u001b[0m\n",
            "\u001b[0;31mFileNotFoundError\u001b[0m: [Errno 2] No such file or directory: 'Taxonomia_O&G.html'"
          ]
        }
      ]
    },
    {
      "cell_type": "code",
      "metadata": {
        "id": "akV9dxMIjiw-",
        "outputId": "9b63bb49-d6b3-43d2-ef0d-5ba03d5cfa82"
      },
      "source": [
        "pai = []\n",
        "\n",
        "n = 0\n",
        "for div in soup.find_all('h3'):\n",
        "    n = n +1\n",
        "    pai.append(div.text.strip(' (1234567890)'))\n",
        "    \n",
        "    #if n > 20:\n",
        "    #    break\n",
        "    \n",
        "len(pai)"
      ],
      "execution_count": null,
      "outputs": [
        {
          "data": {
            "text/plain": [
              "7008"
            ]
          },
          "execution_count": 9,
          "metadata": {},
          "output_type": "execute_result"
        }
      ]
    },
    {
      "cell_type": "code",
      "metadata": {
        "id": "UEGyrIm0jiw-",
        "outputId": "e51b23c2-da34-46b5-b1bb-be4d5ddfe3f9"
      },
      "source": [
        "filho = []\n",
        "\n",
        "n = 0\n",
        "for span in soup.find_all('span'):\n",
        "    n = n +1\n",
        "    filho.append(span.text.strip(' (1234567890)'))\n",
        "    \n",
        "    #if n > 20:\n",
        "    #    break\n",
        "    \n",
        "len(filho)"
      ],
      "execution_count": null,
      "outputs": [
        {
          "data": {
            "text/plain": [
              "20786"
            ]
          },
          "execution_count": 10,
          "metadata": {},
          "output_type": "execute_result"
        }
      ]
    },
    {
      "cell_type": "code",
      "metadata": {
        "id": "p0i9wwU6jiw_",
        "outputId": "b9bb5aa6-eb75-4faa-9790-dee6350df30f"
      },
      "source": [
        "# Potenciais entidades mencionadas de O&G\n",
        "EM = pai + filho\n",
        "len(EM)"
      ],
      "execution_count": null,
      "outputs": [
        {
          "data": {
            "text/plain": [
              "27794"
            ]
          },
          "execution_count": 11,
          "metadata": {},
          "output_type": "execute_result"
        }
      ]
    },
    {
      "cell_type": "code",
      "metadata": {
        "id": "s0P2vTbJjixA"
      },
      "source": [
        "sentença_entidade = {}\n",
        "\n",
        "def verificar_entidades_2(sent):\n",
        "    lista_entidade = []\n",
        "    \n",
        "    for ent in EM: #Usando lista de potenciais Entidades Mencionadas\n",
        "        try:\n",
        "            TEXT =  ent.lower()\n",
        "            if re.search(r'\\b' + TEXT + r'\\b', sent.lower()):\n",
        "                lista_entidade.append(ent)\n",
        "        except:\n",
        "            pass\n",
        "        \n",
        "    if lista_entidade != []:\n",
        "        sentença_entidade[len(sentença_entidade)] = {'Sentença': sent, 'Entidades': lista_entidade}\n",
        "\n",
        "    return "
      ],
      "execution_count": null,
      "outputs": []
    },
    {
      "cell_type": "code",
      "metadata": {
        "id": "VAgQfK-7jixA"
      },
      "source": [
        "with ThreadPoolExecutor(100) as pool:\n",
        "    pool.map(verificar_entidades_2, text[:50])"
      ],
      "execution_count": null,
      "outputs": []
    },
    {
      "cell_type": "code",
      "metadata": {
        "id": "PEMSmWTZjixB",
        "outputId": "ba731c90-67f4-48fa-a265-069ac843f3f6"
      },
      "source": [
        "sentença_entidade"
      ],
      "execution_count": null,
      "outputs": [
        {
          "data": {
            "text/plain": [
              "{0: {'Sentença': 'Os valores de dureza apresentaram-se de acordo com a literatura em torno dos <NUMBER> GPa Figura <NUMBER>  ',\n",
              "  'Entidades': ['acordo', 'EM', 'dureza', 's.', 'torno', 'literatura', 'OS']},\n",
              " 1: {'Sentença': '<NUMBER> são ilustrados por um programa que permite prever o ponto de operação para diferentes freqüências do acionamento do motor do conjunto de BCSS  ',\n",
              "  'Entidades': ['ponto',\n",
              "   'motor',\n",
              "   'operação',\n",
              "   'programa',\n",
              "   'conjunto',\n",
              "   'são',\n",
              "   'BCSS',\n",
              "   'ponto de operação',\n",
              "   'BCSS']},\n",
              " 2: {'Sentença': 'Os trabalhos tais como Clean Coal Technology Development in  ',\n",
              "  'Entidades': ['clean', 'OS']},\n",
              " 3: {'Sentença': 'A c o n c l u s ã o d e B a t e s <NUMBER> f o i a d e q u e a c o m b i n a ç ã o d a t e o r i a d o j a t o a x i a l e o c o n c e i t o d e l i m i t e v e r t i c a l r e q u e r q u e a c o r r e n t e h o m o p i c n a l d e s e n v o l v a - s e p a r c i a l m e n t e s u b - a é r e a com c a a d a s d e t o p o a p l a i n a d a s I t o p s e t s m u d a n d o r a p i d a m e n t e p a r a c a m a d a s d e f r e n t e f o r e s e t s l a p a r t i r d a s b o c a s d o s c a - n a i s d i s t r i b u t á r i o s  ',\n",
              "  'Entidades': ['m', 'c.', 'l', 's.', 'M', 'M', 'P', 'P']},\n",
              " 4: {'Sentença': 'A Nota Técnica COBEN <NUMBER> mencionada no item <NUMBER> do Anexo D con-tém mais detalhes sobre o assunto  ',\n",
              "  'Entidades': ['técnica', 'nota', 'nota técnica']},\n",
              " 5: {'Sentença': 'Os trabalhos tais como Clean Coal Technology Development in  ',\n",
              "  'Entidades': ['clean', 'OS']},\n",
              " 6: {'Sentença': '<NUMBER> Seção bioestratigráfica <NUMBER>  ',\n",
              "  'Entidades': ['seção']},\n",
              " 7: {'Sentença': '<NUMBER> Amoco and Action well entered into an agreement that Amoco would not be held liable for the injury or death of Action Well employees  ',\n",
              "  'Entidades': ['BE']},\n",
              " 8: {'Sentença': 'Os valores de dureza apresentaram-se de acordo com a literatura em torno dos <NUMBER> GPa Figura <NUMBER>  ',\n",
              "  'Entidades': ['acordo', 'EM', 'dureza', 's.', 'torno', 'literatura', 'OS']},\n",
              " 9: {'Sentença': '<NUMBER> Q8 <NUMBER> VPL USS x lu6 Figura 64- Distribuição de Probabilidades dos VPLs no Cenário C2  ',\n",
              "  'Entidades': ['distribuição', 'cenário', 'c.', 'VPL']},\n",
              " 10: {'Sentença': 'tem-se <NUMBER> dos <NUMBER> processos selecionados nos seis cenários estudados no problema de otimização mono-objetivo  ',\n",
              "  'Entidades': ['problema',\n",
              "   'otimização',\n",
              "   's.',\n",
              "   'NOS',\n",
              "   'problema de otimização']},\n",
              " 11: {'Sentença': 'That <NUMBER> billion payout proved to be the green light for Google to extend the original GoTo  ',\n",
              "  'Entidades': ['google', 'BE']},\n",
              " 12: {'Sentença': '<NUMBER> são ilustrados por um programa que permite prever o ponto de operação para diferentes freqüências do acionamento do motor do conjunto de BCSS  ',\n",
              "  'Entidades': ['ponto',\n",
              "   'motor',\n",
              "   'operação',\n",
              "   'programa',\n",
              "   'conjunto',\n",
              "   'são',\n",
              "   'BCSS',\n",
              "   'ponto de operação',\n",
              "   'BCSS']},\n",
              " 13: {'Sentença': 'A c o n c l u s ã o d e B a t e s <NUMBER> f o i a d e q u e a c o m b i n a ç ã o d a t e o r i a d o j a t o a x i a l e o c o n c e i t o d e l i m i t e v e r t i c a l r e q u e r q u e a c o r r e n t e h o m o p i c n a l d e s e n v o l v a - s e p a r c i a l m e n t e s u b - a é r e a com c a a d a s d e t o p o a p l a i n a d a s I t o p s e t s m u d a n d o r a p i d a m e n t e p a r a c a m a d a s d e f r e n t e f o r e s e t s l a p a r t i r d a s b o c a s d o s c a - n a i s d i s t r i b u t á r i o s  ',\n",
              "  'Entidades': ['m', 'c.', 'l', 's.', 'M', 'M', 'P', 'P']},\n",
              " 14: {'Sentença': 'Ground Water Monitoring Reviews <NUMBER> l : 105-l <NUMBER>  ',\n",
              "  'Entidades': ['l']},\n",
              " 15: {'Sentença': 'Os Complexos não participam diretamente no ELV contudo influenciam na dis -tribuição das fugacidades na fase aquosa  ',\n",
              "  'Entidades': ['fase', 'OS']},\n",
              " 16: {'Sentença': 'Aplicações de geofísica para as arquiteturas atuais de processamento de alto desempenho  ',\n",
              "  'Entidades': ['desempenho', 'alto', 'geofísica']},\n",
              " 17: {'Sentença': 'Fundamental Concepts in Groundwater Hydrology In: Apostila do Curso: Natural Attenuation Risk Assessment and Risk-Based Corrective Action: Analysis and Decision Making Through Applied Ground Water Modeling NGWA National Ground Water Association San Francisco CA EUA <NUMBER>  ',\n",
              "  'Entidades': ['curso', 'c.']},\n",
              " 18: {'Sentença': 'Na dispersão entre o parâmetro químico COT e o parâmetro de toxicidade MYSCE50 mostrada na Figuras <NUMBER>  ',\n",
              "  'Entidades': ['parâmetro',\n",
              "   'dispersão',\n",
              "   'Toxicidade',\n",
              "   'químico',\n",
              "   'COT',\n",
              "   'toxicidade']},\n",
              " 19: {'Sentença': '<NUMBER> Ocorrência de vulcanismo bimodal de idade terciária na Bacia de Mucuri Gomes e Suita CORDANI U  ',\n",
              "  'Entidades': ['bacia', 'ocorrência', 'idade', 'vulcanismo']},\n",
              " 20: {'Sentença': 'Londres: The Royal Society p  ', 'Entidades': ['P', 'P']},\n",
              " 21: {'Sentença': '- dutos poliméricos especialmente resinas termo- plásticas e elastômeros sintéticos incluindo a de- terminação de suas propriedades mecânicas óti- cas e térmicas  ',\n",
              "  'Entidades': ['termo',\n",
              "   'terminação',\n",
              "   'propriedades',\n",
              "   'Propriedades mecânicas',\n",
              "   'dutos',\n",
              "   'Dutos']},\n",
              " 22: {'Sentença': 'Em estudo realizado pelo Laboratório de Energia e Materiais LEM em Projeto com a Petrobras Cenpes o método da indentação interfacial foi utilizado para verificar a tenacidade aparente da interface em revestimentos NiCr obtidos por aspersão térmica pelos processos flame spray arc spray e HVOF em substrato de aço-carbono  ',\n",
              "  'Entidades': ['método',\n",
              "   'projeto',\n",
              "   'energia',\n",
              "   'estudo',\n",
              "   'aço',\n",
              "   'EM',\n",
              "   'laboratório',\n",
              "   'carbono',\n",
              "   'interface',\n",
              "   'materiais',\n",
              "   'substrato',\n",
              "   'aspersão',\n",
              "   'tenacidade',\n",
              "   'aço-carbono',\n",
              "   'aspersão térmica']},\n",
              " 23: {'Sentença': '<NUMBER> PDsnegITCID359 <NUMBER> RT: <NUMBER> AV: <NUMBER> NL: <NUMBER> T: ITMS - p APCI corona Full ms2 <NUMBER> m z <NUMBER> R el at iv e Ab un da n ce <NUMBER> PDsnegITCID331 <NUMBER> RT: <NUMBER> AV: <NUMBER> NL: <NUMBER> T: ITMS - p APCI corona Full ms2 <NUMBER> m z <NUMBER> R el at iv e Ab un da nc e <NUMBER> PDsnegITCID307 <NUMBER> RT: <NUMBER> AV: <NUMBER> NL: <NUMBER> T: ITMS - p APCI corona Full ms2 <NUMBER> m z <NUMBER> R el at iv e Ab u nd an ce <NUMBER> PDsnegITCID305 <NUMBER> RT: <NUMBER> AV: <NUMBER> NL: <NUMBER> T: ITMS - p APCI corona Full ms2 <NUMBER> m z <NUMBER> R el at iv e Ab un da nc e <NUMBER> O O- Figura 66: Espectros APCI - EM-EM dos padrões estudados  ',\n",
              "  'Entidades': ['EM', 'm', 'c.', 'M', 'M', 'P', 'P', 'RT']},\n",
              " 24: {'Sentença': '<NUMBER> and signals S2 and S7 - where the best results were obtained using the pseudo-Wigner-Ville distribution see Figures <NUMBER>  ',\n",
              "  'Entidades': ['s.']},\n",
              " 25: {'Sentença': 'O suspensor de coluna quando assentado no BAP também possui um selo entre o BAP e o suspensor vedando o anular do poço  ',\n",
              "  'Entidades': ['poço',\n",
              "   'coluna',\n",
              "   'suspensor',\n",
              "   'selo',\n",
              "   'possui',\n",
              "   'BAP',\n",
              "   'suspensor de coluna']},\n",
              " 26: {'Sentença': 'I cl-0VlJI0 t <NUMBER> tlllD I - <NUMBER>  ',\n",
              "  'Entidades': ['c.']},\n",
              " 27: {'Sentença': '4- Sintética I: Hyperstack Region Growing a partir do centro do círculo para os níveis de escala <NUMBER> e <NUMBER>  ',\n",
              "  'Entidades': ['escala', 'centro', 'círculo', 'OS']},\n",
              " 28: {'Sentença': 'Afin idade Botânica GYMNOSPERMAE Coniferophyta  ',\n",
              "  'Entidades': ['idade', 'botânica']},\n",
              " 29: {'Sentença': 'NACE publication 11106: monitoring and adjustment of cooling water treatment operating parameters  ',\n",
              "  'Entidades': ['nace']},\n",
              " 30: {'Sentença': 'Isso foi feito para evitar danos ao detector pela eluição do farnesano que estava em alta concentração  ',\n",
              "  'Entidades': ['concentração', 'detector', 'EM', 'alta', 'eluição']},\n",
              " 31: {'Sentença': 'Como ponto crítico de sucesso da gestão do empreendimento foi destacada a escolha das embarcações de suporte à instalação em que no Golfo do México por ter um ambiente mais protegido necessitava de <NUMBER> embarcações menores e no mar do Brasil a presença de ondas não típicas naquela região swell gerou maiores complexidades influenciando no sucesso do empreendimento  ',\n",
              "  'Entidades': ['ponto',\n",
              "   'região',\n",
              "   'ambiente',\n",
              "   'presença',\n",
              "   'instalação',\n",
              "   'mar',\n",
              "   'EM',\n",
              "   'suporte',\n",
              "   'gestão',\n",
              "   'golfo',\n",
              "   'brasil',\n",
              "   'embarcações',\n",
              "   'méxico',\n",
              "   'golfo do méxico']},\n",
              " 32: {'Sentença': 'Havia ainda um bloco em sob regime de partilha de produção  ',\n",
              "  'Entidades': ['produção',\n",
              "   'regime',\n",
              "   'bloco',\n",
              "   'EM',\n",
              "   'partilha',\n",
              "   'regime de partilha',\n",
              "   'partilha de produção']},\n",
              " 33: {'Sentença': 'Segundo definição didática Brunetti <NUMBER> a velocidade característica pode ser representada pela velocidade média  ',\n",
              "  'Entidades': ['velocidade', 'média', 'definição', 'velocidade média']},\n",
              " 34: {'Sentença': 'Testes são realizados com diferentes tipos e teores de elementos de liga sem que ocorra perda da resistência mecânica para que esse aço possa ser empregado em meios cada vez mais agressivos  ',\n",
              "  'Entidades': ['resistência',\n",
              "   'perda',\n",
              "   'aço',\n",
              "   'EM',\n",
              "   'mecânica',\n",
              "   'liga',\n",
              "   'são',\n",
              "   'SEM',\n",
              "   'resistência mecânica']},\n",
              " 35: {'Sentença': 'Organização similar ao petróleo no microrreservatório  ',\n",
              "  'Entidades': ['petróleo', 'organização']},\n",
              " 36: {'Sentença': '4: Efeito do gás de proteção no hidrogênio difusível Mirza e Gee <NUMBER>  ',\n",
              "  'Entidades': ['gás',\n",
              "   'efeito',\n",
              "   'proteção',\n",
              "   'GEE',\n",
              "   'hidrogênio',\n",
              "   'gás de proteção']},\n",
              " 37: {'Sentença': 'Os experimentos com variação de temperatura  ',\n",
              "  'Entidades': ['temperatura', 'variação', 'OS', 'variação de temperatura']},\n",
              " 38: {'Sentença': 'Os demais exemplares selecionados para fotografia no microscópio óptico são colocados em uma lamina de vidro escavada sendo esta preenchida com glicerina  ',\n",
              "  'Entidades': ['EM',\n",
              "   'microscópio',\n",
              "   'vidro',\n",
              "   'fotografia',\n",
              "   'são',\n",
              "   'glicerina',\n",
              "   'OS']},\n",
              " 39: {'Sentença': 'A simulação gaussiana seqüencial apresentou resultados mais condizentes com os dados de produção quando comparados com o Mapa de ISOBSW fornecido pelo geólogo do Campo Figuras <NUMBER>  ',\n",
              "  'Entidades': ['mapa', 'produção', 'campo', 'simulação', 'geólogo', 'OS']},\n",
              " 40: {'Sentença': 'Conclusões e Recomendações A crescente necessidade da exploração petrolífera de informações geológicas cada vez mais refinadas tem impulsionado a Geofísica no sentido de encontrar e desenvolver rapidamente novas ferramentas de trabalho que utilizam ao máximo as informações contidas nos dados sísmicos  ',\n",
              "  'Entidades': ['exploração',\n",
              "   'trabalho',\n",
              "   'geofísica',\n",
              "   'sentido',\n",
              "   'crescente',\n",
              "   'necessidade',\n",
              "   'NOS',\n",
              "   'novas']},\n",
              " 41: {'Sentença': 'Na associação de fácies de canais fluviais efê -meros os gráficos mostram valores mais altos de permeabilidade para as litofácies St Sp Sl Sh e Sm enquanto as litofácies Gm e Sr apresentam valores mais baixos de permeabilidade fig  ',\n",
              "  'Entidades': ['fácies',\n",
              "   'permeabilidade',\n",
              "   'associação',\n",
              "   's.',\n",
              "   'SP',\n",
              "   'SH',\n",
              "   'litofácies',\n",
              "   'OS',\n",
              "   'gráficos',\n",
              "   'associação de fácies']}}"
            ]
          },
          "execution_count": 110,
          "metadata": {},
          "output_type": "execute_result"
        }
      ]
    },
    {
      "cell_type": "code",
      "metadata": {
        "id": "GRt2VDFfjixC"
      },
      "source": [
        "with open('sentença_entidade_v2.json', 'w') as f:\n",
        "    json.dump(sentença_entidade, f)"
      ],
      "execution_count": null,
      "outputs": []
    },
    {
      "cell_type": "code",
      "metadata": {
        "id": "paJ7eLGwjixC"
      },
      "source": [
        ""
      ],
      "execution_count": null,
      "outputs": []
    }
  ]
}