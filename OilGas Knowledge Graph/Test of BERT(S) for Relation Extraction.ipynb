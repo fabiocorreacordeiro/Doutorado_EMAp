{
 "cells": [
  {
   "cell_type": "code",
   "execution_count": 1,
   "id": "27ee3887",
   "metadata": {},
   "outputs": [],
   "source": [
    "from transformers import pipeline\n",
    "from transformers import BertTokenizer, BertModel\n",
    "from transformers import AlbertTokenizer, AlbertModel"
   ]
  },
  {
   "cell_type": "markdown",
   "id": "03783c87",
   "metadata": {},
   "source": [
    "BERT(S) for Relation Extraction: "
   ]
  },
  {
   "cell_type": "markdown",
   "id": "60b916f6",
   "metadata": {},
   "source": [
    "### BERT"
   ]
  },
  {
   "cell_type": "code",
   "execution_count": 2,
   "id": "2e17b369",
   "metadata": {},
   "outputs": [
    {
     "name": "stderr",
     "output_type": "stream",
     "text": [
      "Some weights of the model checkpoint at bert-base-uncased were not used when initializing BertForMaskedLM: ['cls.seq_relationship.bias', 'cls.seq_relationship.weight']\n",
      "- This IS expected if you are initializing BertForMaskedLM from the checkpoint of a model trained on another task or with another architecture (e.g. initializing a BertForSequenceClassification model from a BertForPreTraining model).\n",
      "- This IS NOT expected if you are initializing BertForMaskedLM from the checkpoint of a model that you expect to be exactly identical (initializing a BertForSequenceClassification model from a BertForSequenceClassification model).\n"
     ]
    }
   ],
   "source": [
    "unmasker = pipeline('fill-mask', model='bert-base-uncased')"
   ]
  },
  {
   "cell_type": "code",
   "execution_count": 3,
   "id": "2191065e",
   "metadata": {},
   "outputs": [
    {
     "data": {
      "text/plain": [
       "[{'sequence': \"hello i'm a fashion model.\",\n",
       "  'score': 0.10731082409620285,\n",
       "  'token': 4827,\n",
       "  'token_str': 'fashion'},\n",
       " {'sequence': \"hello i'm a role model.\",\n",
       "  'score': 0.08774485439062119,\n",
       "  'token': 2535,\n",
       "  'token_str': 'role'},\n",
       " {'sequence': \"hello i'm a new model.\",\n",
       "  'score': 0.05338380113244057,\n",
       "  'token': 2047,\n",
       "  'token_str': 'new'},\n",
       " {'sequence': \"hello i'm a super model.\",\n",
       "  'score': 0.04667210206389427,\n",
       "  'token': 3565,\n",
       "  'token_str': 'super'},\n",
       " {'sequence': \"hello i'm a fine model.\",\n",
       "  'score': 0.027095874771475792,\n",
       "  'token': 2986,\n",
       "  'token_str': 'fine'}]"
      ]
     },
     "execution_count": 3,
     "metadata": {},
     "output_type": "execute_result"
    }
   ],
   "source": [
    "unmasker(\"Hello I'm a [MASK] model.\")"
   ]
  },
  {
   "cell_type": "code",
   "execution_count": 4,
   "id": "0faf81d9",
   "metadata": {},
   "outputs": [
    {
     "name": "stderr",
     "output_type": "stream",
     "text": [
      "Some weights of the model checkpoint at bert-base-uncased were not used when initializing BertModel: ['cls.predictions.decoder.weight', 'cls.predictions.transform.LayerNorm.weight', 'cls.predictions.transform.dense.bias', 'cls.predictions.bias', 'cls.seq_relationship.bias', 'cls.predictions.transform.LayerNorm.bias', 'cls.seq_relationship.weight', 'cls.predictions.transform.dense.weight']\n",
      "- This IS expected if you are initializing BertModel from the checkpoint of a model trained on another task or with another architecture (e.g. initializing a BertForSequenceClassification model from a BertForPreTraining model).\n",
      "- This IS NOT expected if you are initializing BertModel from the checkpoint of a model that you expect to be exactly identical (initializing a BertForSequenceClassification model from a BertForSequenceClassification model).\n"
     ]
    }
   ],
   "source": [
    "tokenizer = BertTokenizer.from_pretrained('bert-base-uncased')\n",
    "model = BertModel.from_pretrained(\"bert-base-uncased\")\n",
    "text = \"Replace me by any text you'd like.\"\n",
    "encoded_input = tokenizer(text, return_tensors='pt')\n",
    "output = model(**encoded_input)"
   ]
  },
  {
   "cell_type": "markdown",
   "id": "66ee6c26",
   "metadata": {},
   "source": [
    "### ALBERT"
   ]
  },
  {
   "cell_type": "code",
   "execution_count": 5,
   "id": "83bad02c",
   "metadata": {},
   "outputs": [
    {
     "data": {
      "text/plain": [
       "[{'sequence': \"hello i'm a modeling model.\",\n",
       "  'score': 0.05816109851002693,\n",
       "  'token': 12807,\n",
       "  'token_str': 'modeling'},\n",
       " {'sequence': \"hello i'm a modelling model.\",\n",
       "  'score': 0.037488292902708054,\n",
       "  'token': 23089,\n",
       "  'token_str': 'modelling'},\n",
       " {'sequence': \"hello i'm a model model.\",\n",
       "  'score': 0.03372497111558914,\n",
       "  'token': 1061,\n",
       "  'token_str': 'model'},\n",
       " {'sequence': \"hello i'm a runway model.\",\n",
       "  'score': 0.01731342077255249,\n",
       "  'token': 8014,\n",
       "  'token_str': 'runway'},\n",
       " {'sequence': \"hello i'm a lingerie model.\",\n",
       "  'score': 0.014405577443540096,\n",
       "  'token': 29104,\n",
       "  'token_str': 'lingerie'}]"
      ]
     },
     "execution_count": 5,
     "metadata": {},
     "output_type": "execute_result"
    }
   ],
   "source": [
    "unmasker = pipeline('fill-mask', model='albert-base-v2')\n",
    "unmasker(\"Hello I'm a [MASK] model.\")"
   ]
  },
  {
   "cell_type": "code",
   "execution_count": 6,
   "id": "501a2852",
   "metadata": {},
   "outputs": [
    {
     "name": "stderr",
     "output_type": "stream",
     "text": [
      "Some weights of the model checkpoint at albert-base-v2 were not used when initializing AlbertModel: ['predictions.LayerNorm.bias', 'predictions.decoder.bias', 'predictions.decoder.weight', 'predictions.dense.bias', 'predictions.LayerNorm.weight', 'predictions.bias', 'predictions.dense.weight']\n",
      "- This IS expected if you are initializing AlbertModel from the checkpoint of a model trained on another task or with another architecture (e.g. initializing a BertForSequenceClassification model from a BertForPreTraining model).\n",
      "- This IS NOT expected if you are initializing AlbertModel from the checkpoint of a model that you expect to be exactly identical (initializing a BertForSequenceClassification model from a BertForSequenceClassification model).\n"
     ]
    }
   ],
   "source": [
    "tokenizer = AlbertTokenizer.from_pretrained('albert-base-v2')\n",
    "model = AlbertModel.from_pretrained(\"albert-base-v2\")\n",
    "text = \"Replace me by any text you'd like.\"\n",
    "encoded_input = tokenizer(text, return_tensors='pt')\n",
    "output = model(**encoded_input)"
   ]
  },
  {
   "cell_type": "code",
   "execution_count": null,
   "id": "beb0770e",
   "metadata": {},
   "outputs": [],
   "source": []
  }
 ],
 "metadata": {
  "kernelspec": {
   "display_name": "Python 3 (ipykernel)",
   "language": "python",
   "name": "python3"
  },
  "language_info": {
   "codemirror_mode": {
    "name": "ipython",
    "version": 3
   },
   "file_extension": ".py",
   "mimetype": "text/x-python",
   "name": "python",
   "nbconvert_exporter": "python",
   "pygments_lexer": "ipython3",
   "version": "3.7.11"
  }
 },
 "nbformat": 4,
 "nbformat_minor": 5
}
